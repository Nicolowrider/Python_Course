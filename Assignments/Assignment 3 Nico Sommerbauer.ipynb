{
 "cells": [
  {
   "cell_type": "code",
   "execution_count": 1,
   "metadata": {},
   "outputs": [],
   "source": [
    "#using NLTK and the Brown Corpus within it, I want to carry out a frequency analysis of personal pronouns between the\n",
    "#different genres in the corpus. My hypothesis is that \"he\" will be used more frequently than \"she\" across all genres,\n",
    "#but that the difference will be smaller in genres such as romance, fiction and humor than in genres such as religion,\n",
    "#news or science fiction. I expect that \"they\" will be more frequent in the more scientifically oriented genres, while \"you\"\n",
    "#will be less frequent in them."
   ]
  },
  {
   "cell_type": "code",
   "execution_count": 2,
   "metadata": {},
   "outputs": [],
   "source": [
    "import nltk\n",
    "from nltk.corpus import brown"
   ]
  },
  {
   "cell_type": "code",
   "execution_count": 3,
   "metadata": {},
   "outputs": [
    {
     "name": "stdout",
     "output_type": "stream",
     "text": [
      "                   I  you   he  she they \n",
      "           news  179   55  451   42  205 \n",
      "      editorial  201   83  268   41  148 \n",
      "        reviews   49   29  161   42   74 \n",
      "           lore  265  209  541  232  303 \n",
      " belles_lettres  845  188 1174  178  488 \n",
      "     government   97   74  120    0   92 \n",
      "        learned  182   39  328   54  338 \n",
      "       religion  155  100  137   10  115 \n",
      "        hobbies  154  383  155   21  177 \n",
      "science_fiction   98   81  139   36   53 \n",
      "        romance  951  456  702  496  168 \n",
      "          humor  239  131  146   58   70 \n",
      "        fiction  511  236  813  280  230 \n",
      "        mystery  583  340  670  219  106 \n",
      "      adventure  652  362  761  240  206 \n"
     ]
    }
   ],
   "source": [
    "cfd = nltk.ConditionalFreqDist(\n",
    "    (genre, word)\n",
    "    for genre in brown.categories()\n",
    "    for word in brown.words(categories=genre))\n",
    "genres = ['news', 'editorial', 'reviews', 'lore', 'belles_lettres', 'government', 'learned', 'religion', 'hobbies', 'science_fiction', 'romance', 'humor', 'fiction', 'mystery', 'adventure']\n",
    "words = [\"I\", \"you\", \"he\", \"she\", \"they\"]\n",
    "cfd.tabulate(conditions=genres, samples=words)"
   ]
  },
  {
   "cell_type": "code",
   "execution_count": 5,
   "metadata": {},
   "outputs": [],
   "source": [
    "from numpy import arange\n",
    "from matplotlib import pyplot"
   ]
  },
  {
   "cell_type": "code",
   "execution_count": 18,
   "metadata": {},
   "outputs": [],
   "source": [
    "def bar_chart(categories, words, counts):\n",
    "    ind = arange(len(words))\n",
    "    width = 1 / (len(categories) + 1)\n",
    "    bar_groups = []\n",
    "    for c in range(len(categories)):\n",
    "        bars = pyplot.bar(ind+c*width, counts[categories[c]], width,\n",
    "                         color=colors[c % len(colors)])\n",
    "        bar_groups.append(bars)\n",
    "    pyplot.xticks(ind+width, words)\n",
    "    pyplot.legend([b[0] for b in bar_groups], categories, loc='upper right')\n",
    "    pyplot.ylabel('Frequency')\n",
    "    pyplot.title('Frequency of personal pronouns by Genre')\n",
    "    pyplot.show()"
   ]
  },
  {
   "cell_type": "code",
   "execution_count": 19,
   "metadata": {},
   "outputs": [
    {
     "data": {
      "image/png": "[encoded data removed]",
      "text/plain": [
       "<Figure size 432x288 with 1 Axes>"
      ]
     },
     "metadata": {
      "needs_background": "light"
     },
     "output_type": "display_data"
    }
   ],
   "source": [
    "genres = ['news', 'government', 'religion','science_fiction', 'romance', 'humor', 'fiction']\n",
    "pronouns = [\"I\", \"you\", \"he\", \"she\", \"they\"]\n",
    "cfdist = nltk.ConditionalFreqDist(\n",
    "(genre, word)\n",
    "    for genre in genres\n",
    "    for word in nltk.corpus.brown.words(categories=genre)\n",
    "    if word in pronouns)\n",
    "counts = {}\n",
    "for genre in genres:\n",
    "    counts[genre] = [cfdist[genre][word] for word in modals]\n",
    "bar_chart(genres, modals, counts)"
   ]
  },
  {
   "cell_type": "code",
   "execution_count": null,
   "metadata": {},
   "outputs": [],
   "source": [
    "#I had to shorten the list of genres to make the graph more readable; as can be seen from the table above as well as the\n",
    "#graph, my hypothesis that \"he\" will be more frequent than \"she\" across all genres was proven to be correct. Of course, one\n",
    "#should not forget that the texts in the Brown Corpus are from the 1960s. This may also help explain the complete absence of\n",
    "#the word \"she\" in government texts. There is also a very visible trend for texts of the romance genre to rely heavily on\n",
    "#personal pronouns, especially in the singular; the difference between \"he\" and \"she\" is also smaller here than in any of the\n",
    "#other genres examined.\n",
    "#This has been a rather minimal analysis; I hope it is enough for what you were asking for for this assignment. If not, I can\n",
    "#provide further research within a week. In the context of these results, further areas that could be of interest might\n",
    "#include looking at how often the words \"he\" or \"she\" are used in conjunction with certain verbs or adjectives in order\n",
    "#to try and find tendencies for what qualities may or may not be ascribed more frequently to people of a certain gender."
   ]
  }
 ],
 "metadata": {
  "kernelspec": {
   "display_name": "Python 3",
   "language": "python",
   "name": "python3"
  },
  "language_info": {
   "codemirror_mode": {
    "name": "ipython",
    "version": 3
   },
   "file_extension": ".py",
   "mimetype": "text/x-python",
   "name": "python",
   "nbconvert_exporter": "python",
   "pygments_lexer": "ipython3",
   "version": "3.7.6"
  }
 },
 "nbformat": 4,
 "nbformat_minor": 4
}
