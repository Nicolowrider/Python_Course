{
 "cells": [
  {
   "cell_type": "markdown",
   "metadata": {},
   "source": [
    "# Introduction to Python   \n",
    "\n",
    "### Classes"
   ]
  },
  {
   "cell_type": "markdown",
   "metadata": {},
   "source": [
    "#### 1) Create a class \"Car\", with the following properties (methods and attributes):  \n",
    "\n",
    "- Model (attribute) -> The car model\n",
    "- Autonomy (method) -> Must return how many Km can still travel with the current fuel\n",
    "- Tank level (method and attribute) -> The number of Liters in the tank\n",
    "- Tank capacity (attribute) -> Full capacity of the tank (Liters)\n",
    "- Consumption (attribute) -> A value representing consumption in Km per Liter\n",
    "- Refills (method) -> Adds a number of Liters of fuel to the tank, up to, at most, its full capacity\n",
    "- Run (method) -> Makes the car travel a specific number of Km\n",
    "- Odometer -> (attribute) Returns the total number of Km traveled \n",
    "- Partial Odometer (attribute) -> Returns the number of Km traveled since the last tank filling "
   ]
  },
  {
   "cell_type": "code",
   "execution_count": 4,
   "metadata": {},
   "outputs": [],
   "source": [
    "class Car:\n",
    "    def __init__(self, model, consumption, tank_capacity):\n",
    "        self.model = model\n",
    "        self.consumption = consumption\n",
    "        self.tank_capacity = tank_capacity\n",
    "        self.odometer = 0\n",
    "        self.partial_odometer = 0\n",
    "        self.tank = 0\n",
    "        \n",
    "    def run(self,km):\n",
    "        if km/self.consumption < self.tank:\n",
    "            self.tank -= (km/self.consumption)\n",
    "            self.odometer += km\n",
    "            self.partial_odometer += km\n",
    "        else:\n",
    "            print('There is enough fuel for {0:.2f} Km'.format(self.calculate_autonomy()))\n",
    "\n",
    "    def refill(self, litres):\n",
    "        self.to_complete = self.tank_capacity - self.tank\n",
    "        if litres > self.to_complete:\n",
    "            print('There is only room for {0:.2f} litres'.format(self.to_complete))\n",
    "        else:\n",
    "            self.partial_odometer = 0\n",
    "            self.tank += litres\n",
    "            print('Refuelled {0:.2f} litres'.format(litres))\n",
    "            print('Now the tank holds {0:.2f} litres'.format(self.tank))\n",
    "\n",
    "    def calculate_autonomy(self):\n",
    "        self.autonomy = self.tank*self.consumption\n",
    "        print('The autonomy is {0:.2f} Km'.format(self.autonomy))\n",
    "        return self.autonomy\n",
    "    \n",
    "    def tank_level(self):\n",
    "        print('The tank holds {0:.2f} litres'.format(self.tank))\n",
    "    \n",
    "    def show_odometer(self):\n",
    "        print('Partial odometer: {0:.2f}'.format(self.partial_odometer))\n",
    "        print('Total odometer: {0:.2f}'.format(self.odometer))"
   ]
  },
  {
   "cell_type": "code",
   "execution_count": 5,
   "metadata": {},
   "outputs": [],
   "source": [
    "mycar = Car('Nissam',9,40)"
   ]
  },
  {
   "cell_type": "code",
   "execution_count": 6,
   "metadata": {},
   "outputs": [
    {
     "name": "stdout",
     "output_type": "stream",
     "text": [
      "The autonomy is 0.00 Km\n",
      "There is enough fuel for 0.00 Km\n"
     ]
    }
   ],
   "source": [
    "mycar.run(240)"
   ]
  },
  {
   "cell_type": "code",
   "execution_count": 7,
   "metadata": {},
   "outputs": [
    {
     "name": "stdout",
     "output_type": "stream",
     "text": [
      "Refuelled 20.00 litres\n",
      "Now the tank holds 20.00 litres\n"
     ]
    }
   ],
   "source": [
    "mycar.refill(20)"
   ]
  },
  {
   "cell_type": "code",
   "execution_count": 9,
   "metadata": {},
   "outputs": [
    {
     "name": "stdout",
     "output_type": "stream",
     "text": [
      "The autonomy is 180.00 Km\n"
     ]
    },
    {
     "data": {
      "text/plain": [
       "180"
      ]
     },
     "execution_count": 9,
     "metadata": {},
     "output_type": "execute_result"
    }
   ],
   "source": [
    "mycar.calculate_autonomy()"
   ]
  },
  {
   "cell_type": "code",
   "execution_count": 10,
   "metadata": {},
   "outputs": [
    {
     "name": "stdout",
     "output_type": "stream",
     "text": [
      "The autonomy is 180.00 Km\n",
      "There is enough fuel for 180.00 Km\n"
     ]
    }
   ],
   "source": [
    "mycar.run(240)"
   ]
  },
  {
   "cell_type": "code",
   "execution_count": 12,
   "metadata": {},
   "outputs": [
    {
     "name": "stdout",
     "output_type": "stream",
     "text": [
      "The autonomy is 80.00 Km\n",
      "There is enough fuel for 80.00 Km\n"
     ]
    }
   ],
   "source": [
    "mycar.run(100)"
   ]
  },
  {
   "cell_type": "code",
   "execution_count": 13,
   "metadata": {},
   "outputs": [
    {
     "name": "stdout",
     "output_type": "stream",
     "text": [
      "Partial odometer: 100.00\n",
      "Total odometer: 100.00\n"
     ]
    }
   ],
   "source": [
    "mycar.show_odometer()"
   ]
  },
  {
   "cell_type": "code",
   "execution_count": 14,
   "metadata": {},
   "outputs": [
    {
     "name": "stdout",
     "output_type": "stream",
     "text": [
      "Refuelled 20.00 litres\n",
      "Now the tank holds 28.89 litres\n"
     ]
    }
   ],
   "source": [
    "mycar.refill(20)"
   ]
  },
  {
   "cell_type": "code",
   "execution_count": 16,
   "metadata": {},
   "outputs": [
    {
     "name": "stdout",
     "output_type": "stream",
     "text": [
      "The autonomy is 260.00 Km\n"
     ]
    },
    {
     "data": {
      "text/plain": [
       "260.0"
      ]
     },
     "execution_count": 16,
     "metadata": {},
     "output_type": "execute_result"
    }
   ],
   "source": [
    "mycar.calculate_autonomy()"
   ]
  },
  {
   "cell_type": "code",
   "execution_count": 17,
   "metadata": {},
   "outputs": [
    {
     "name": "stdout",
     "output_type": "stream",
     "text": [
      "Partial odometer: 0.00\n",
      "Total odometer: 100.00\n"
     ]
    }
   ],
   "source": [
    "mycar.show_odometer()"
   ]
  },
  {
   "cell_type": "markdown",
   "metadata": {
    "id": "R_vi6lpSNLPC"
   },
   "source": [
    "#### 2) Create a class \"Country\" that contains the following methods:\n",
    "\n",
    "- compare_gdp_per_capita\n",
    "- compare_population_density\n",
    "- development_status \n",
    "\n",
    "Additional information:\n",
    "\n",
    "- To classify the development status (high-income, upper middle income, lower middle income and low-income) use the following methodology: https://www.un.org/en/development/desa/policy/wesp/wesp_current/2014wesp_country_classification.pdf\n",
    "\n",
    "- Consider GNI as GDP\n",
    "\n",
    "- The input will be in the format (name_of_country, population, area_in_km2, gdp), where name_of_country is a string and the other three inputs are integers.\n",
    "\n",
    "\n",
    "**Example**\n",
    "\n",
    "brazil = Country(\"Brazil\", 209500000, 8516000, 1847000000)\n",
    "\n",
    "mexico = Country(\"Mexico\", 126200000, 1973000, 1221000000)\n",
    "\n",
    "brazil.development_status ➞ 'upper middle income'\n",
    "\n",
    "mexico.compare_population_density(brazil) ➞ \"Mexico has a larger population density than Brazil\"\n",
    "\n",
    "brazil.compare_gdp_per_capita(mexico) ➞ \"Brazil is poorer than Mexico\""
   ]
  },
  {
   "cell_type": "code",
   "execution_count": null,
   "metadata": {
    "id": "xt5CZp7JCtjk"
   },
   "outputs": [],
   "source": [
    "class Country ():\n",
    "    def __init__(self,name_of_country, population, area, gdp):\n",
    "        self.name_of_country = name_of_country\n",
    "        self.population = population\n",
    "        self.area = area\n",
    "        self.gdp = gdp\n",
    "        self.gdp_per_capita = gdp/population\n",
    "\n",
    "    def compare_gdp_per_capita(self,country):\n",
    "        if self.gdp_per_capita > country.gdp_per_capita:\n",
    "            return f'{self.name_of_country} is richer than {country.name_of_country}'\n",
    "        elif self.gdp_per_capita < country.gdp_per_capita:\n",
    "            return f'{self.name_of_country} is poorer than {country.name_of_country}'\n",
    "        else:\n",
    "            return f'{self.name_of_country} as rich as {country.name_of_country}'\n",
    "\n",
    "    def compare_population_density(self,country):\n",
    "        if self.population/self.area > country.population/country.area:\n",
    "            return f'{self.name_of_country} has a larger population density than {country.name_of_country}'\n",
    "        elif self.population/self.area < country.population/country.area:\n",
    "            return f'{self.name_of_country} has a smaller population density than {country.name_of_country}'\n",
    "        else:\n",
    "            return f'{self.name_of_country} has the same population density of {country.name_of_country}'\n",
    "\n",
    "    def development_status(self):\n",
    "        if self.gdp_per_capita < 1035:\n",
    "            return \"low-income\"\n",
    "        elif self.gdp_per_capita >= 1035 and self.gdp_per_capita < 4085:\n",
    "            return \"lower middle income \"\n",
    "        elif self.gdp_per_capita >= 4085 and self.gdp_per_capita < 12615:\n",
    "            return \"upper middle income\"\n",
    "        else:\n",
    "            return \"high-income\""
   ]
  },
  {
   "cell_type": "code",
   "execution_count": null,
   "metadata": {
    "colab": {
     "base_uri": "https://localhost:8080/"
    },
    "id": "ECxoA2-L2YL2",
    "outputId": "4e989115-aa35-4a00-d4f6-455a55bc42f9"
   },
   "outputs": [],
   "source": [
    "brazil = Country(\"Brazil\", 209500000, 8516000, 1847000000000)\n",
    "mexico = Country(\"Mexico\", 126200000, 1973000, 1221000000000)\n",
    "\n",
    "print(brazil.development_status())\n",
    "print(mexico.compare_population_density(brazil))\n",
    "print(brazil.compare_gdp_per_capita(mexico))"
   ]
  }
 ],
 "metadata": {
  "kernelspec": {
   "display_name": "Python 3",
   "language": "python",
   "name": "python3"
  },
  "language_info": {
   "codemirror_mode": {
    "name": "ipython",
    "version": 3
   },
   "file_extension": ".py",
   "mimetype": "text/x-python",
   "name": "python",
   "nbconvert_exporter": "python",
   "pygments_lexer": "ipython3",
   "version": "3.8.5"
  }
 },
 "nbformat": 4,
 "nbformat_minor": 4
}
