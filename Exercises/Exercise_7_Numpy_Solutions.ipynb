{
 "cells": [
  {
   "cell_type": "markdown",
   "metadata": {
    "id": "vHFI6GfMGMSm"
   },
   "source": [
    "# Introduction to Python   \n",
    "\n",
    "### Numpy (Solutions)"
   ]
  },
  {
   "cell_type": "code",
   "execution_count": null,
   "metadata": {
    "id": "h8b0IZh-mJdc"
   },
   "outputs": [],
   "source": [
    "import numpy as np"
   ]
  },
  {
   "cell_type": "markdown",
   "metadata": {
    "id": "1M6ZR6T6GrFW"
   },
   "source": [
    "#### 1) Create a function that receives an integer N as argument and returns a matrix $N x N$ with \"ones\" on the edges and \"zeros\" inside\n",
    "\n",
    "hint: Indexes"
   ]
  },
  {
   "cell_type": "code",
   "execution_count": null,
   "metadata": {
    "id": "QT8Xgudnly3D"
   },
   "outputs": [],
   "source": [
    "def array_0_1(n):\n",
    "  c = np.ones((n,n))\n",
    "  c[1:-1, 1:-1] = 0\n",
    "  return c"
   ]
  },
  {
   "cell_type": "code",
   "execution_count": null,
   "metadata": {
    "colab": {
     "base_uri": "https://localhost:8080/"
    },
    "id": "Lk60TLkh3qjn",
    "outputId": "cfe3deb6-f44e-4046-a3bc-5fe4535a3128"
   },
   "outputs": [
    {
     "data": {
      "text/plain": [
       "array([[1., 1., 1., 1., 1., 1., 1., 1., 1., 1.],\n",
       "       [1., 0., 0., 0., 0., 0., 0., 0., 0., 1.],\n",
       "       [1., 0., 0., 0., 0., 0., 0., 0., 0., 1.],\n",
       "       [1., 0., 0., 0., 0., 0., 0., 0., 0., 1.],\n",
       "       [1., 0., 0., 0., 0., 0., 0., 0., 0., 1.],\n",
       "       [1., 0., 0., 0., 0., 0., 0., 0., 0., 1.],\n",
       "       [1., 0., 0., 0., 0., 0., 0., 0., 0., 1.],\n",
       "       [1., 0., 0., 0., 0., 0., 0., 0., 0., 1.],\n",
       "       [1., 0., 0., 0., 0., 0., 0., 0., 0., 1.],\n",
       "       [1., 1., 1., 1., 1., 1., 1., 1., 1., 1.]])"
      ]
     },
     "execution_count": 3,
     "metadata": {
      "tags": []
     },
     "output_type": "execute_result"
    }
   ],
   "source": [
    "array_0_1(10)"
   ]
  },
  {
   "cell_type": "markdown",
   "metadata": {
    "id": "nkPlX2_YHVBJ"
   },
   "source": [
    "2) Create a function that transpose a matrix without using the method np.transpose or np.array.T.\n",
    "\n",
    "Hint: Criar um vetor de ones e prestar atenção no shape desse vetor\n",
    "\n",
    "Monitoria: np.ones, np.zeros - definindo o shape"
   ]
  },
  {
   "cell_type": "code",
   "execution_count": null,
   "metadata": {
    "id": "1B5--to-lzEs"
   },
   "outputs": [],
   "source": [
    "def transposing(array):\n",
    "  array_t = np.zeros(tuple(reversed(array.shape)))  \n",
    "  for i in range(array.shape[1]):\n",
    "    for j in range(array.shape[0]):\n",
    "      array_t[i][j] = array[j][i]\n",
    "  return array_t"
   ]
  },
  {
   "cell_type": "code",
   "execution_count": null,
   "metadata": {
    "id": "3og6Qb_qdNAU"
   },
   "outputs": [],
   "source": [
    "a = np.array([[2,3],[26,8],[1,1]])"
   ]
  },
  {
   "cell_type": "code",
   "execution_count": null,
   "metadata": {
    "colab": {
     "base_uri": "https://localhost:8080/"
    },
    "id": "AqnAGjjvdQvE",
    "outputId": "89598741-ca21-4a68-c738-8a47a11739a3"
   },
   "outputs": [
    {
     "data": {
      "text/plain": [
       "array([[ 2, 26,  1],\n",
       "       [ 3,  8,  1]])"
      ]
     },
     "execution_count": 6,
     "metadata": {
      "tags": []
     },
     "output_type": "execute_result"
    }
   ],
   "source": [
    "a.T"
   ]
  },
  {
   "cell_type": "code",
   "execution_count": null,
   "metadata": {
    "colab": {
     "base_uri": "https://localhost:8080/"
    },
    "id": "-Pf7jfasdYhb",
    "outputId": "4965b40c-fd84-44ee-b127-2fbd0e7170f8"
   },
   "outputs": [
    {
     "data": {
      "text/plain": [
       "array([[ 2,  3],\n",
       "       [26,  8],\n",
       "       [ 1,  1]])"
      ]
     },
     "execution_count": 7,
     "metadata": {
      "tags": []
     },
     "output_type": "execute_result"
    }
   ],
   "source": [
    "a"
   ]
  },
  {
   "cell_type": "markdown",
   "metadata": {
    "id": "BjQQns18IJTN"
   },
   "source": [
    "3) Create two 1d arrays with length 10 that contains random integers from 0 to 1000. How many iterations does it take until the sum of their values are the same?"
   ]
  },
  {
   "cell_type": "markdown",
   "metadata": {
    "id": "Ly_BxwkxCiTU"
   },
   "source": [
    "Hint: np.random.randint\n",
    "\n",
    "Monitoria: np.random.randint"
   ]
  },
  {
   "cell_type": "code",
   "execution_count": null,
   "metadata": {
    "id": "K1b3PyZsrWPH"
   },
   "outputs": [],
   "source": [
    "count = 0\n",
    "while True:\n",
    "  count +=1\n",
    "  a1 = np.random.randint(1000, size = 10)\n",
    "  a2 = np.random.randint(1000, size = 10)\n",
    "  if a1.sum() == a2.sum():\n",
    "    break"
   ]
  },
  {
   "cell_type": "markdown",
   "metadata": {
    "id": "Wpa8eL4K3jZf"
   },
   "source": [
    "Obviamente, sendo aleatório, cada um terá uma resposta diferente"
   ]
  },
  {
   "cell_type": "code",
   "execution_count": null,
   "metadata": {
    "colab": {
     "base_uri": "https://localhost:8080/"
    },
    "id": "75zP8lb_d08U",
    "outputId": "d56a1e0a-5639-4329-8129-470588ffa3da"
   },
   "outputs": [
    {
     "data": {
      "text/plain": [
       "787"
      ]
     },
     "execution_count": 9,
     "metadata": {
      "tags": []
     },
     "output_type": "execute_result"
    }
   ],
   "source": [
    "count"
   ]
  }
 ],
 "metadata": {
  "colab": {
   "collapsed_sections": [],
   "name": "3rd Assignment.ipynb",
   "provenance": [],
   "toc_visible": true
  },
  "kernelspec": {
   "display_name": "Python 3",
   "language": "python",
   "name": "python3"
  },
  "language_info": {
   "codemirror_mode": {
    "name": "ipython",
    "version": 3
   },
   "file_extension": ".py",
   "mimetype": "text/x-python",
   "name": "python",
   "nbconvert_exporter": "python",
   "pygments_lexer": "ipython3",
   "version": "3.8.5"
  }
 },
 "nbformat": 4,
 "nbformat_minor": 4
}
